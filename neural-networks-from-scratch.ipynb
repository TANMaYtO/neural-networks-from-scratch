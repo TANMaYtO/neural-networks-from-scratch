{
 "cells": [
  {
   "cell_type": "code",
   "execution_count": 1,
   "id": "6bb27edd",
   "metadata": {
    "execution": {
     "iopub.execute_input": "2025-07-26T11:09:52.504957Z",
     "iopub.status.busy": "2025-07-26T11:09:52.504533Z",
     "iopub.status.idle": "2025-07-26T11:09:52.515517Z",
     "shell.execute_reply": "2025-07-26T11:09:52.514616Z"
    },
    "papermill": {
     "duration": 0.016241,
     "end_time": "2025-07-26T11:09:52.517172",
     "exception": false,
     "start_time": "2025-07-26T11:09:52.500931",
     "status": "completed"
    },
    "tags": []
   },
   "outputs": [
    {
     "data": {
      "text/plain": [
       "2.3"
      ]
     },
     "execution_count": 1,
     "metadata": {},
     "output_type": "execute_result"
    }
   ],
   "source": [
    "# first neural network for 1 NEURON WITH 3 INPUTS\n",
    "inputs = [1,2,3]\n",
    "weights = [0.2, 0.8, -0.5]\n",
    "bias = 2\n",
    "output = inputs[0]*weights[0] + inputs[1]*weights[1] + inputs[2]*weights[2] + bias\n",
    "output"
   ]
  },
  {
   "cell_type": "code",
   "execution_count": 2,
   "id": "2edeaee4",
   "metadata": {
    "execution": {
     "iopub.execute_input": "2025-07-26T11:09:52.522971Z",
     "iopub.status.busy": "2025-07-26T11:09:52.522518Z",
     "iopub.status.idle": "2025-07-26T11:09:52.531199Z",
     "shell.execute_reply": "2025-07-26T11:09:52.530286Z"
    },
    "papermill": {
     "duration": 0.01339,
     "end_time": "2025-07-26T11:09:52.532728",
     "exception": false,
     "start_time": "2025-07-26T11:09:52.519338",
     "status": "completed"
    },
    "tags": []
   },
   "outputs": [
    {
     "data": {
      "text/plain": [
       "[4.8, 1.21, 2.385]"
      ]
     },
     "execution_count": 2,
     "metadata": {},
     "output_type": "execute_result"
    }
   ],
   "source": [
    "# FOR 3 NEURONS and 4 INPUTS\n",
    "inputs = [1,2,3, 2.5]\n",
    "weights1 = [0.2, 0.8, -0.5, 1.0]\n",
    "weights2 = [0.5, -0.91, 0.26, -0.5]\n",
    "weights3 = [-0.26, -0.27, 0.17, 0.87]\n",
    "bias1 = 2\n",
    "bias2 = 3\n",
    "bias3 = 0.5\n",
    "output = [inputs[0]*weights1[0] + inputs[1]*weights1[1] + inputs[2]*weights1[2] + inputs[3]*weights1[3] + bias1,\n",
    "         inputs[0]*weights2[0] + inputs[1]*weights2[1] + inputs[2]*weights2[2] + inputs[3]*weights2[3] + bias2,\n",
    "         inputs[0]*weights3[0] + inputs[1]*weights3[1] + inputs[2]*weights3[2] + inputs[3]*weights3[3] + bias3,]\n",
    "output"
   ]
  },
  {
   "cell_type": "code",
   "execution_count": 3,
   "id": "93ec4ce9",
   "metadata": {
    "execution": {
     "iopub.execute_input": "2025-07-26T11:09:52.537679Z",
     "iopub.status.busy": "2025-07-26T11:09:52.537393Z",
     "iopub.status.idle": "2025-07-26T11:09:52.545086Z",
     "shell.execute_reply": "2025-07-26T11:09:52.544225Z"
    },
    "papermill": {
     "duration": 0.011852,
     "end_time": "2025-07-26T11:09:52.546562",
     "exception": false,
     "start_time": "2025-07-26T11:09:52.534710",
     "status": "completed"
    },
    "tags": []
   },
   "outputs": [
    {
     "data": {
      "text/plain": [
       "[4.8, 1.21, 2.385]"
      ]
     },
     "execution_count": 3,
     "metadata": {},
     "output_type": "execute_result"
    }
   ],
   "source": [
    "# A BIT SIMPLIFIED BY USE OF LOOps\n",
    "\n",
    "inputs = [1, 2, 3, 2.5]\n",
    "weights = [[0.2, 0.8, -0.5, 1.0], [0.5, -0.91, 0.26, -0.5], [-0.26, -0.27, 0.17, 0.87]]\n",
    "biases = [2,3,0.5]\n",
    "layer_output = [] # output of current layer\n",
    "for neuron_weights, neuron_bias in zip(weights,biases):\n",
    "    neuron_output = 0 # output of given neuron\n",
    "    for n_inputs, weight in zip(inputs,neuron_weights):\n",
    "        neuron_output += n_inputs*weight # basically the (inputs*weights) part of original code\n",
    "    neuron_output += neuron_bias # the (+ bias) part\n",
    "    layer_output.append(neuron_output)\n",
    "layer_output"
   ]
  },
  {
   "cell_type": "code",
   "execution_count": null,
   "id": "8dd16659",
   "metadata": {
    "papermill": {
     "duration": 0.001586,
     "end_time": "2025-07-26T11:09:52.550145",
     "exception": false,
     "start_time": "2025-07-26T11:09:52.548559",
     "status": "completed"
    },
    "tags": []
   },
   "outputs": [],
   "source": []
  }
 ],
 "metadata": {
  "kaggle": {
   "accelerator": "none",
   "dataSources": [],
   "dockerImageVersionId": 31089,
   "isGpuEnabled": false,
   "isInternetEnabled": true,
   "language": "python",
   "sourceType": "notebook"
  },
  "kernelspec": {
   "display_name": "Python 3",
   "language": "python",
   "name": "python3"
  },
  "language_info": {
   "codemirror_mode": {
    "name": "ipython",
    "version": 3
   },
   "file_extension": ".py",
   "mimetype": "text/x-python",
   "name": "python",
   "nbconvert_exporter": "python",
   "pygments_lexer": "ipython3",
   "version": "3.11.13"
  },
  "papermill": {
   "default_parameters": {},
   "duration": 5.55823,
   "end_time": "2025-07-26T11:09:52.971965",
   "environment_variables": {},
   "exception": null,
   "input_path": "__notebook__.ipynb",
   "output_path": "__notebook__.ipynb",
   "parameters": {},
   "start_time": "2025-07-26T11:09:47.413735",
   "version": "2.6.0"
  }
 },
 "nbformat": 4,
 "nbformat_minor": 5
}
