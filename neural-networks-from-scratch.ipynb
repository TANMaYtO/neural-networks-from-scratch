{
 "cells": [
  {
   "cell_type": "code",
   "execution_count": 1,
   "id": "88b95ce3",
   "metadata": {
    "execution": {
     "iopub.execute_input": "2025-07-26T09:28:26.979429Z",
     "iopub.status.busy": "2025-07-26T09:28:26.978431Z",
     "iopub.status.idle": "2025-07-26T09:28:26.989040Z",
     "shell.execute_reply": "2025-07-26T09:28:26.988214Z"
    },
    "papermill": {
     "duration": 0.015353,
     "end_time": "2025-07-26T09:28:26.990720",
     "exception": false,
     "start_time": "2025-07-26T09:28:26.975367",
     "status": "completed"
    },
    "tags": []
   },
   "outputs": [
    {
     "data": {
      "text/plain": [
       "35.7"
      ]
     },
     "execution_count": 1,
     "metadata": {},
     "output_type": "execute_result"
    }
   ],
   "source": [
    "# first neural network for 1 NEURON WITH 3 INPUTS\n",
    "inputs = [1.2, 5.1, 2.1]\n",
    "weights = [3.1, 2.1, 8.7]\n",
    "bias = 3\n",
    "output = inputs[0]*weights[0] + inputs[1]*weights[1] + inputs[2]*weights[2] + bias\n",
    "output"
   ]
  },
  {
   "cell_type": "code",
   "execution_count": null,
   "id": "b8d30d12",
   "metadata": {
    "papermill": {
     "duration": 0.001238,
     "end_time": "2025-07-26T09:28:26.993837",
     "exception": false,
     "start_time": "2025-07-26T09:28:26.992599",
     "status": "completed"
    },
    "tags": []
   },
   "outputs": [],
   "source": []
  }
 ],
 "metadata": {
  "kaggle": {
   "accelerator": "none",
   "dataSources": [],
   "dockerImageVersionId": 31089,
   "isGpuEnabled": false,
   "isInternetEnabled": true,
   "language": "python",
   "sourceType": "notebook"
  },
  "kernelspec": {
   "display_name": "Python 3",
   "language": "python",
   "name": "python3"
  },
  "language_info": {
   "codemirror_mode": {
    "name": "ipython",
    "version": 3
   },
   "file_extension": ".py",
   "mimetype": "text/x-python",
   "name": "python",
   "nbconvert_exporter": "python",
   "pygments_lexer": "ipython3",
   "version": "3.11.13"
  },
  "papermill": {
   "default_parameters": {},
   "duration": 5.281701,
   "end_time": "2025-07-26T09:28:27.415387",
   "environment_variables": {},
   "exception": null,
   "input_path": "__notebook__.ipynb",
   "output_path": "__notebook__.ipynb",
   "parameters": {},
   "start_time": "2025-07-26T09:28:22.133686",
   "version": "2.6.0"
  }
 },
 "nbformat": 4,
 "nbformat_minor": 5
}
