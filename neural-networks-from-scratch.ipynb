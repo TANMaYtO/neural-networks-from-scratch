{
 "cells": [
  {
   "cell_type": "code",
   "execution_count": 1,
   "id": "3ec942c5",
   "metadata": {
    "execution": {
     "iopub.execute_input": "2025-07-26T09:51:37.660563Z",
     "iopub.status.busy": "2025-07-26T09:51:37.660225Z",
     "iopub.status.idle": "2025-07-26T09:51:37.670333Z",
     "shell.execute_reply": "2025-07-26T09:51:37.669574Z"
    },
    "papermill": {
     "duration": 0.01437,
     "end_time": "2025-07-26T09:51:37.671576",
     "exception": false,
     "start_time": "2025-07-26T09:51:37.657206",
     "status": "completed"
    },
    "tags": []
   },
   "outputs": [
    {
     "data": {
      "text/plain": [
       "2.3"
      ]
     },
     "execution_count": 1,
     "metadata": {},
     "output_type": "execute_result"
    }
   ],
   "source": [
    "# first neural network for 1 NEURON WITH 3 INPUTS\n",
    "inputs = [1,2,3]\n",
    "weights = [0.2, 0.8, -0.5]\n",
    "bias = 2\n",
    "output = inputs[0]*weights[0] + inputs[1]*weights[1] + inputs[2]*weights[2] + bias\n",
    "output"
   ]
  },
  {
   "cell_type": "code",
   "execution_count": 2,
   "id": "d31d64f6",
   "metadata": {
    "execution": {
     "iopub.execute_input": "2025-07-26T09:51:37.676110Z",
     "iopub.status.busy": "2025-07-26T09:51:37.675822Z",
     "iopub.status.idle": "2025-07-26T09:51:37.683776Z",
     "shell.execute_reply": "2025-07-26T09:51:37.683057Z"
    },
    "papermill": {
     "duration": 0.011612,
     "end_time": "2025-07-26T09:51:37.685062",
     "exception": false,
     "start_time": "2025-07-26T09:51:37.673450",
     "status": "completed"
    },
    "tags": []
   },
   "outputs": [
    {
     "data": {
      "text/plain": [
       "[4.8, 1.21, 2.385]"
      ]
     },
     "execution_count": 2,
     "metadata": {},
     "output_type": "execute_result"
    }
   ],
   "source": [
    "# FOR 3 NEURONS and 4 INPUTS\n",
    "inputs = [1,2,3, 2.5]\n",
    "weights1 = [0.2, 0.8, -0.5, 1.0]\n",
    "weights2 = [0.5, -0.91, 0.26, -0.5]\n",
    "weights3 = [-0.26, -0.27, 0.17, 0.87]\n",
    "bias1 = 2\n",
    "bias2 = 3\n",
    "bias3 = 0.5\n",
    "output = [inputs[0]*weights1[0] + inputs[1]*weights1[1] + inputs[2]*weights1[2] + inputs[3]*weights1[3] + bias1,\n",
    "         inputs[0]*weights2[0] + inputs[1]*weights2[1] + inputs[2]*weights2[2] + inputs[3]*weights2[3] + bias2,\n",
    "         inputs[0]*weights3[0] + inputs[1]*weights3[1] + inputs[2]*weights3[2] + inputs[3]*weights3[3] + bias3,]\n",
    "output"
   ]
  },
  {
   "cell_type": "code",
   "execution_count": null,
   "id": "ba2d2dea",
   "metadata": {
    "papermill": {
     "duration": 0.001297,
     "end_time": "2025-07-26T09:51:37.687945",
     "exception": false,
     "start_time": "2025-07-26T09:51:37.686648",
     "status": "completed"
    },
    "tags": []
   },
   "outputs": [],
   "source": []
  }
 ],
 "metadata": {
  "kaggle": {
   "accelerator": "none",
   "dataSources": [],
   "dockerImageVersionId": 31089,
   "isGpuEnabled": false,
   "isInternetEnabled": true,
   "language": "python",
   "sourceType": "notebook"
  },
  "kernelspec": {
   "display_name": "Python 3",
   "language": "python",
   "name": "python3"
  },
  "language_info": {
   "codemirror_mode": {
    "name": "ipython",
    "version": 3
   },
   "file_extension": ".py",
   "mimetype": "text/x-python",
   "name": "python",
   "nbconvert_exporter": "python",
   "pygments_lexer": "ipython3",
   "version": "3.11.13"
  },
  "papermill": {
   "default_parameters": {},
   "duration": 4.862136,
   "end_time": "2025-07-26T09:51:38.007457",
   "environment_variables": {},
   "exception": null,
   "input_path": "__notebook__.ipynb",
   "output_path": "__notebook__.ipynb",
   "parameters": {},
   "start_time": "2025-07-26T09:51:33.145321",
   "version": "2.6.0"
  }
 },
 "nbformat": 4,
 "nbformat_minor": 5
}
