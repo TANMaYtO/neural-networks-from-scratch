{
 "cells": [
  {
   "cell_type": "code",
   "execution_count": 1,
   "id": "95cd7cb8",
   "metadata": {
    "execution": {
     "iopub.execute_input": "2025-07-27T13:24:31.927057Z",
     "iopub.status.busy": "2025-07-27T13:24:31.926707Z",
     "iopub.status.idle": "2025-07-27T13:24:31.937185Z",
     "shell.execute_reply": "2025-07-27T13:24:31.936468Z"
    },
    "papermill": {
     "duration": 0.01653,
     "end_time": "2025-07-27T13:24:31.938525",
     "exception": false,
     "start_time": "2025-07-27T13:24:31.921995",
     "status": "completed"
    },
    "tags": []
   },
   "outputs": [
    {
     "data": {
      "text/plain": [
       "2.3"
      ]
     },
     "execution_count": 1,
     "metadata": {},
     "output_type": "execute_result"
    }
   ],
   "source": [
    "# first neural network for 1 NEURON WITH 3 INPUTS\n",
    "inputs = [1,2,3]\n",
    "weights = [0.2, 0.8, -0.5]\n",
    "bias = 2\n",
    "output = inputs[0]*weights[0] + inputs[1]*weights[1] + inputs[2]*weights[2] + bias\n",
    "output"
   ]
  },
  {
   "cell_type": "code",
   "execution_count": 2,
   "id": "b1dc2994",
   "metadata": {
    "execution": {
     "iopub.execute_input": "2025-07-27T13:24:31.946204Z",
     "iopub.status.busy": "2025-07-27T13:24:31.945917Z",
     "iopub.status.idle": "2025-07-27T13:24:31.953860Z",
     "shell.execute_reply": "2025-07-27T13:24:31.953030Z"
    },
    "papermill": {
     "duration": 0.013112,
     "end_time": "2025-07-27T13:24:31.955190",
     "exception": false,
     "start_time": "2025-07-27T13:24:31.942078",
     "status": "completed"
    },
    "tags": []
   },
   "outputs": [
    {
     "data": {
      "text/plain": [
       "[4.8, 1.21, 2.385]"
      ]
     },
     "execution_count": 2,
     "metadata": {},
     "output_type": "execute_result"
    }
   ],
   "source": [
    "# FOR 3 NEURONS and 4 INPUTS\n",
    "inputs = [1,2,3, 2.5]\n",
    "weights1 = [0.2, 0.8, -0.5, 1.0]\n",
    "weights2 = [0.5, -0.91, 0.26, -0.5]\n",
    "weights3 = [-0.26, -0.27, 0.17, 0.87]\n",
    "bias1 = 2\n",
    "bias2 = 3\n",
    "bias3 = 0.5\n",
    "output = [inputs[0]*weights1[0] + inputs[1]*weights1[1] + inputs[2]*weights1[2] + inputs[3]*weights1[3] + bias1,\n",
    "         inputs[0]*weights2[0] + inputs[1]*weights2[1] + inputs[2]*weights2[2] + inputs[3]*weights2[3] + bias2,\n",
    "         inputs[0]*weights3[0] + inputs[1]*weights3[1] + inputs[2]*weights3[2] + inputs[3]*weights3[3] + bias3,]\n",
    "output"
   ]
  },
  {
   "cell_type": "code",
   "execution_count": 3,
   "id": "e4aa0888",
   "metadata": {
    "execution": {
     "iopub.execute_input": "2025-07-27T13:24:31.962626Z",
     "iopub.status.busy": "2025-07-27T13:24:31.962366Z",
     "iopub.status.idle": "2025-07-27T13:24:31.969033Z",
     "shell.execute_reply": "2025-07-27T13:24:31.968210Z"
    },
    "papermill": {
     "duration": 0.011869,
     "end_time": "2025-07-27T13:24:31.970316",
     "exception": false,
     "start_time": "2025-07-27T13:24:31.958447",
     "status": "completed"
    },
    "tags": []
   },
   "outputs": [
    {
     "data": {
      "text/plain": [
       "[4.8, 1.21, 2.385]"
      ]
     },
     "execution_count": 3,
     "metadata": {},
     "output_type": "execute_result"
    }
   ],
   "source": [
    "# A BIT SIMPLIFIED BY USE OF LOOps\n",
    "\n",
    "inputs = [1, 2, 3, 2.5]\n",
    "weights = [[0.2, 0.8, -0.5, 1.0], [0.5, -0.91, 0.26, -0.5], [-0.26, -0.27, 0.17, 0.87]]\n",
    "biases = [2,3,0.5]\n",
    "layer_output = [] # output of current layer\n",
    "for neuron_weights, neuron_bias in zip(weights,biases):\n",
    "    neuron_output = 0 # output of given neuron\n",
    "    for n_inputs, weight in zip(inputs,neuron_weights):\n",
    "        neuron_output += n_inputs*weight # basically the (inputs*weights) part of original code\n",
    "    neuron_output += neuron_bias # the (+ bias) part\n",
    "    layer_output.append(neuron_output)\n",
    "layer_output"
   ]
  },
  {
   "cell_type": "code",
   "execution_count": 4,
   "id": "e6343528",
   "metadata": {
    "execution": {
     "iopub.execute_input": "2025-07-27T13:24:31.977712Z",
     "iopub.status.busy": "2025-07-27T13:24:31.977453Z",
     "iopub.status.idle": "2025-07-27T13:24:31.989419Z",
     "shell.execute_reply": "2025-07-27T13:24:31.988745Z"
    },
    "papermill": {
     "duration": 0.017098,
     "end_time": "2025-07-27T13:24:31.990627",
     "exception": false,
     "start_time": "2025-07-27T13:24:31.973529",
     "status": "completed"
    },
    "tags": []
   },
   "outputs": [
    {
     "data": {
      "text/plain": [
       "array([4.8  , 1.21 , 2.385])"
      ]
     },
     "execution_count": 4,
     "metadata": {},
     "output_type": "execute_result"
    }
   ],
   "source": [
    "# further simplification via numpy \n",
    "import numpy as np\n",
    "inputs = [1, 2, 3, 2.5]\n",
    "weights = [[0.2, 0.8, -0.5, 1.0], [0.5, -0.91, 0.26, -0.5], [-0.26, -0.27, 0.17, 0.87]]\n",
    "biases = [2,3,0.5]\n",
    "output = np.dot(weights,inputs) + biases # we just did that loop thing in one fukcing line \n",
    "output"
   ]
  },
  {
   "cell_type": "code",
   "execution_count": 5,
   "id": "0ffbae9e",
   "metadata": {
    "execution": {
     "iopub.execute_input": "2025-07-27T13:24:31.998349Z",
     "iopub.status.busy": "2025-07-27T13:24:31.998112Z",
     "iopub.status.idle": "2025-07-27T13:24:32.015613Z",
     "shell.execute_reply": "2025-07-27T13:24:32.014934Z"
    },
    "papermill": {
     "duration": 0.02278,
     "end_time": "2025-07-27T13:24:32.016878",
     "exception": false,
     "start_time": "2025-07-27T13:24:31.994098",
     "status": "completed"
    },
    "tags": []
   },
   "outputs": [
    {
     "data": {
      "text/plain": [
       "array([[ 4.8  ,  1.21 ,  2.385],\n",
       "       [ 8.9  , -1.81 ,  0.2  ],\n",
       "       [ 1.41 ,  1.051,  0.026]])"
      ]
     },
     "execution_count": 5,
     "metadata": {},
     "output_type": "execute_result"
    }
   ],
   "source": [
    "# USING BATCHES OF INPUTS\n",
    "inputs = [[1, 2, 3, 2.5], [2.0, 5.0, -1.0, 2.0], [-1.5, 2.7, 3.3, -0.8]]\n",
    "weights = [[0.2, 0.8, -0.5, 1.0], [0.5, -0.91, 0.26, -0.5], [-0.26, -0.27, 0.17, 0.87]]\n",
    "biases = [2,3,0.5]\n",
    "output = np.dot(inputs, np.array(weights).T) + biases # we did the transpose to keep the shapes intact\n",
    "output"
   ]
  },
  {
   "cell_type": "code",
   "execution_count": 6,
   "id": "7efb12b6",
   "metadata": {
    "execution": {
     "iopub.execute_input": "2025-07-27T13:24:32.025481Z",
     "iopub.status.busy": "2025-07-27T13:24:32.024797Z",
     "iopub.status.idle": "2025-07-27T13:24:32.033235Z",
     "shell.execute_reply": "2025-07-27T13:24:32.032403Z"
    },
    "papermill": {
     "duration": 0.01398,
     "end_time": "2025-07-27T13:24:32.034508",
     "exception": false,
     "start_time": "2025-07-27T13:24:32.020528",
     "status": "completed"
    },
    "tags": []
   },
   "outputs": [
    {
     "data": {
      "text/plain": [
       "array([[ 0.5031 ,  3.75815, -2.03875],\n",
       "       [ 0.2434 ,  6.1668 , -5.7633 ],\n",
       "       [-0.99314,  2.82254, -0.35655]])"
      ]
     },
     "execution_count": 6,
     "metadata": {},
     "output_type": "execute_result"
    }
   ],
   "source": [
    "# adding another layer \n",
    "inputs = [[1, 2, 3, 2.5], \n",
    "          [2.0, 5.0, -1.0, 2.0], \n",
    "          [-1.5, 2.7, 3.3, -0.8]]\n",
    "\n",
    "weights1 = [[0.2, 0.8, -0.5, 1.0], \n",
    "            [0.5, -0.91, 0.26, -0.5], \n",
    "            [-0.26, -0.27, 0.17, 0.87]]\n",
    "\n",
    "biases1 = [2,3,0.5]\n",
    "\n",
    "weights2 = [[0.1, -0.14, 0.5], \n",
    "            [0.5, 0.12, -0.33], \n",
    "            [-0.44, 0.73, -0.13]]\n",
    "\n",
    "biases2 = [-1,2,-0.5]\n",
    "\n",
    "layer1_outputs = np.dot(inputs, np.array(weights1).T) + biases1 \n",
    "\n",
    "layer2_outputs = np.dot(layer1_outputs, np.array(weights2).T) + biases2\n",
    "layer2_outputs"
   ]
  },
  {
   "cell_type": "code",
   "execution_count": 7,
   "id": "c4fa9602",
   "metadata": {
    "execution": {
     "iopub.execute_input": "2025-07-27T13:24:32.042626Z",
     "iopub.status.busy": "2025-07-27T13:24:32.042365Z",
     "iopub.status.idle": "2025-07-27T13:24:32.052156Z",
     "shell.execute_reply": "2025-07-27T13:24:32.051449Z"
    },
    "papermill": {
     "duration": 0.015248,
     "end_time": "2025-07-27T13:24:32.053421",
     "exception": false,
     "start_time": "2025-07-27T13:24:32.038173",
     "status": "completed"
    },
    "tags": []
   },
   "outputs": [
    {
     "data": {
      "text/plain": [
       "array([[ 0.148296  , -0.08397602],\n",
       "       [ 0.14100315, -0.01340469],\n",
       "       [ 0.20124979, -0.07290616]])"
      ]
     },
     "execution_count": 7,
     "metadata": {},
     "output_type": "execute_result"
    }
   ],
   "source": [
    "# MAKING THINGS AS AN OBJECT \n",
    "import numpy as np\n",
    "np.random.seed(0)   # for the same output each run \n",
    "X = [[1, 2, 3, 2.5], \n",
    "      [2.0, 5.0, -1.0, 2.0], \n",
    "      [-1.5, 2.7, 3.3, -0.8]]\n",
    "class Layer_Dense:\n",
    "    def __init__(self, n_inputs, n_neurons):\n",
    "        self.weights = 0.10 * np.random.randn(n_inputs, n_neurons)\n",
    "        self.biases = np.zeros((1, n_neurons))\n",
    "    def forward(self, inputs):\n",
    "        self.output = np.dot(inputs, self.weights) + self.biases\n",
    "\n",
    "layer1 = Layer_Dense(4,5)\n",
    "layer2 = Layer_Dense(5,2)\n",
    "\n",
    "layer1.forward(X)\n",
    "layer2.forward(layer1.output)\n",
    "layer2.output"
   ]
  },
  {
   "cell_type": "code",
   "execution_count": 8,
   "id": "604c7663",
   "metadata": {
    "execution": {
     "iopub.execute_input": "2025-07-27T13:24:32.061631Z",
     "iopub.status.busy": "2025-07-27T13:24:32.061374Z",
     "iopub.status.idle": "2025-07-27T13:24:32.068328Z",
     "shell.execute_reply": "2025-07-27T13:24:32.067497Z"
    },
    "papermill": {
     "duration": 0.012511,
     "end_time": "2025-07-27T13:24:32.069578",
     "exception": false,
     "start_time": "2025-07-27T13:24:32.057067",
     "status": "completed"
    },
    "tags": []
   },
   "outputs": [
    {
     "data": {
      "text/plain": [
       "[0, 2, 0, 3.3, 0, 1.1, 2.2, 0]"
      ]
     },
     "execution_count": 8,
     "metadata": {},
     "output_type": "execute_result"
    }
   ],
   "source": [
    "# CODE FOR RELU FxN\n",
    "import numpy as np\n",
    "np.random.seed(0)   # for the same output each run \n",
    "X = [[1, 2, 3, 2.5], \n",
    "      [2.0, 5.0, -1.0, 2.0], \n",
    "      [-1.5, 2.7, 3.3, -0.8]]\n",
    "inputs = [0,2,-1,3.3,-2.7,1.1,2.2,-100]\n",
    "output = []\n",
    "for i in inputs:\n",
    "    if i>0:\n",
    "        output.append(i)\n",
    "    elif i<=0:\n",
    "        output.append(0)\n",
    "output"
   ]
  },
  {
   "cell_type": "code",
   "execution_count": 9,
   "id": "ff675925",
   "metadata": {
    "execution": {
     "iopub.execute_input": "2025-07-27T13:24:32.078003Z",
     "iopub.status.busy": "2025-07-27T13:24:32.077680Z",
     "iopub.status.idle": "2025-07-27T13:24:32.084082Z",
     "shell.execute_reply": "2025-07-27T13:24:32.083412Z"
    },
    "papermill": {
     "duration": 0.011918,
     "end_time": "2025-07-27T13:24:32.085314",
     "exception": false,
     "start_time": "2025-07-27T13:24:32.073396",
     "status": "completed"
    },
    "tags": []
   },
   "outputs": [
    {
     "data": {
      "text/plain": [
       "[0, 2, 0, 3.3, 0, 1.1, 2.2, 0]"
      ]
     },
     "execution_count": 9,
     "metadata": {},
     "output_type": "execute_result"
    }
   ],
   "source": [
    "# that whole loop can be dicthed and ran as \n",
    "import numpy as np\n",
    "np.random.seed(0)   # for the same output each run \n",
    "X = [[1, 2, 3, 2.5], \n",
    "      [2.0, 5.0, -1.0, 2.0], \n",
    "      [-1.5, 2.7, 3.3, -0.8]]\n",
    "inputs = [0,2,-1,3.3,-2.7,1.1,2.2,-100]\n",
    "output = [i if i > 0 else 0 for i in inputs]\n",
    "output"
   ]
  },
  {
   "cell_type": "code",
   "execution_count": 10,
   "id": "ef6003e1",
   "metadata": {
    "execution": {
     "iopub.execute_input": "2025-07-27T13:24:32.094571Z",
     "iopub.status.busy": "2025-07-27T13:24:32.094323Z",
     "iopub.status.idle": "2025-07-27T13:24:32.103575Z",
     "shell.execute_reply": "2025-07-27T13:24:32.102730Z"
    },
    "papermill": {
     "duration": 0.015866,
     "end_time": "2025-07-27T13:24:32.104906",
     "exception": false,
     "start_time": "2025-07-27T13:24:32.089040",
     "status": "completed"
    },
    "tags": []
   },
   "outputs": [
    {
     "data": {
      "text/plain": [
       "array([[ 0.148296  , -0.08397602],\n",
       "       [ 0.14100315, -0.01340469],\n",
       "       [ 0.20124979, -0.07290616]])"
      ]
     },
     "execution_count": 10,
     "metadata": {},
     "output_type": "execute_result"
    }
   ],
   "source": [
    "# writting ReLU as an object too \n",
    "import numpy as np\n",
    "np.random.seed(0)   # for the same output each run \n",
    "X = [[1, 2, 3, 2.5], \n",
    "      [2.0, 5.0, -1.0, 2.0], \n",
    "      [-1.5, 2.7, 3.3, -0.8]]\n",
    "class Layer_Dense:\n",
    "    def __init__(self, n_inputs, n_neurons):\n",
    "        self.weights = 0.10 * np.random.randn(n_inputs, n_neurons)\n",
    "        self.biases = np.zeros((1, n_neurons))\n",
    "    def forward(self, inputs):\n",
    "        self.output = np.dot(inputs, self.weights) + self.biases\n",
    "    def __call__(self,inputs):  # to make it cleaner and remove the need of writing .forward everytime\n",
    "        return self.forward(inputs)\n",
    "\n",
    "class activation_ReLU:\n",
    "    def forward(self, inputs):\n",
    "        output = np.maximum(0,inputs)\n",
    "    def __call__(self, inputs):\n",
    "        return self.forward(inputs)\n",
    "\n",
    "layer1 = Layer_Dense(4,5)\n",
    "layer2 = Layer_Dense(5,2)\n",
    "\n",
    "layer1(X)\n",
    "layer2(layer1.output)\n",
    "layer2.output"
   ]
  },
  {
   "cell_type": "code",
   "execution_count": 11,
   "id": "fc432112",
   "metadata": {
    "execution": {
     "iopub.execute_input": "2025-07-27T13:24:32.114266Z",
     "iopub.status.busy": "2025-07-27T13:24:32.113995Z",
     "iopub.status.idle": "2025-07-27T13:24:32.381237Z",
     "shell.execute_reply": "2025-07-27T13:24:32.380382Z"
    },
    "papermill": {
     "duration": 0.274025,
     "end_time": "2025-07-27T13:24:32.383374",
     "exception": false,
     "start_time": "2025-07-27T13:24:32.109349",
     "status": "completed"
    },
    "tags": []
   },
   "outputs": [
    {
     "data": {
      "image/png": "[encoded data removed]",
      "text/plain": [
       "<Figure size 640x480 with 1 Axes>"
      ]
     },
     "metadata": {},
     "output_type": "display_data"
    }
   ],
   "source": [
    "def spiral_data(points, classes):\n",
    "    X = np.zeros((points*classes, 2))\n",
    "    y = np.zeros(points*classes, dtype='uint8')\n",
    "    for class_number in range(classes):\n",
    "        ix = range(points*class_number, points*(class_number+1))\n",
    "        r = np.linspace(0.0, 1, points)  # radius\n",
    "        t = np.linspace(class_number*4, (class_number+1)*4, points) + np.random.randn(points)*0.2\n",
    "        X[ix] = np.c_[r*np.sin(t*2.5), r*np.cos(t*2.5)]\n",
    "        y[ix] = class_number\n",
    "    return X, y\n",
    "\n",
    "\n",
    "import matplotlib.pyplot as plt\n",
    "X, y = spiral_data(100, 3)\n",
    "plt.scatter(X[:, 0], X[:, 1], c=y, cmap=\"brg\")\n",
    "plt.show()"
   ]
  },
  {
   "cell_type": "code",
   "execution_count": 12,
   "id": "0d0b0cd5",
   "metadata": {
    "execution": {
     "iopub.execute_input": "2025-07-27T13:24:32.394532Z",
     "iopub.status.busy": "2025-07-27T13:24:32.394279Z",
     "iopub.status.idle": "2025-07-27T13:24:32.402468Z",
     "shell.execute_reply": "2025-07-27T13:24:32.401787Z"
    },
    "papermill": {
     "duration": 0.015192,
     "end_time": "2025-07-27T13:24:32.403744",
     "exception": false,
     "start_time": "2025-07-27T13:24:32.388552",
     "status": "completed"
    },
    "tags": []
   },
   "outputs": [],
   "source": [
    "# using activation in the spiral_data dataset \n",
    "import numpy as np\n",
    "np.random.seed(0)\n",
    "X, y = spiral_data(100, 3)\n",
    "class Layer_Dense:\n",
    "    def __init__(self, n_inputs, n_neurons):\n",
    "        self.weights = 0.10 * np.random.randn(n_inputs, n_neurons)\n",
    "        self.biases = np.zeros((1, n_neurons))\n",
    "    def forward(self, inputs):\n",
    "        self.output = np.dot(inputs, self.weights) + self.biases\n",
    "    def __call__(self,inputs):  # to make it cleaner and remove the need of writing .forward everytime\n",
    "        return self.forward(inputs)\n",
    "\n",
    "class activation_ReLU:\n",
    "    def forward(self, inputs):\n",
    "        self.output = np.maximum(0,inputs)\n",
    "    def __call__(self, inputs):\n",
    "        return self.forward(inputs)\n",
    "\n",
    "layer1 = Layer_Dense(2,5)\n",
    "activation1 = activation_ReLU()\n",
    "layer1(X)\n",
    "activation1(layer1.output)\n"
   ]
  },
  {
   "cell_type": "code",
   "execution_count": 13,
   "id": "8bbd4ffa",
   "metadata": {
    "execution": {
     "iopub.execute_input": "2025-07-27T13:24:32.414820Z",
     "iopub.status.busy": "2025-07-27T13:24:32.414314Z",
     "iopub.status.idle": "2025-07-27T13:24:32.420438Z",
     "shell.execute_reply": "2025-07-27T13:24:32.419745Z"
    },
    "papermill": {
     "duration": 0.012963,
     "end_time": "2025-07-27T13:24:32.421685",
     "exception": false,
     "start_time": "2025-07-27T13:24:32.408722",
     "status": "completed"
    },
    "tags": []
   },
   "outputs": [
    {
     "name": "stdout",
     "output_type": "stream",
     "text": [
      "exp values: [121.51041751873483, 3.353484652549023, 10.859062664920513]\n",
      "norm values: [0.8952826639572619, 0.024708306782099374, 0.0800090292606387]\n"
     ]
    }
   ],
   "source": [
    "# exponenting in raw python\n",
    "import math \n",
    "layer_output = [4.8,1.21,2.385]\n",
    "E = math.e\n",
    "exp_values = []\n",
    "for outputs in layer_output:\n",
    "    exp_values.append(E**outputs)\n",
    "\n",
    "print('exp values:',exp_values)\n",
    "\n",
    "# normalizing the exponentiated values\n",
    "\n",
    "norm_base = sum(exp_values)\n",
    "norm_values = []\n",
    "for values in exp_values:\n",
    "    norm_values.append(values/norm_base)\n",
    "\n",
    "print('norm values:',norm_values)\n"
   ]
  },
  {
   "cell_type": "code",
   "execution_count": 14,
   "id": "f0d1dce0",
   "metadata": {
    "execution": {
     "iopub.execute_input": "2025-07-27T13:24:32.432640Z",
     "iopub.status.busy": "2025-07-27T13:24:32.432259Z",
     "iopub.status.idle": "2025-07-27T13:24:32.438041Z",
     "shell.execute_reply": "2025-07-27T13:24:32.437282Z"
    },
    "papermill": {
     "duration": 0.012661,
     "end_time": "2025-07-27T13:24:32.439323",
     "exception": false,
     "start_time": "2025-07-27T13:24:32.426662",
     "status": "completed"
    },
    "tags": []
   },
   "outputs": [
    {
     "name": "stdout",
     "output_type": "stream",
     "text": [
      "[[8.95282664e-01 2.47083068e-02 8.00090293e-02]\n",
      " [9.99811129e-01 2.23163963e-05 1.66554348e-04]\n",
      " [5.13097164e-01 3.58333899e-01 1.28568936e-01]]\n"
     ]
    }
   ],
   "source": [
    "# doing it via numpy\n",
    "# exponenting in raw python\n",
    "import numpy as np\n",
    "\n",
    "layer_output = [[4.8, 1.21, 2.385],\n",
    "                [8.9, -1.81, 0.2],\n",
    "                [1.41, 1.051, 0.026]]\n",
    "\n",
    "\n",
    "exp_values = np.exp(layer_output - np.max(layer_output, axis=1, keepdims=True))\n",
    "probabilities = exp_values / np.sum(exp_values, axis=1, keepdims=True)\n",
    "\n",
    "print(probabilities)"
   ]
  },
  {
   "cell_type": "code",
   "execution_count": 15,
   "id": "71a8e3a4",
   "metadata": {
    "execution": {
     "iopub.execute_input": "2025-07-27T13:24:32.450552Z",
     "iopub.status.busy": "2025-07-27T13:24:32.449942Z",
     "iopub.status.idle": "2025-07-27T13:24:32.459705Z",
     "shell.execute_reply": "2025-07-27T13:24:32.458821Z"
    },
    "papermill": {
     "duration": 0.016652,
     "end_time": "2025-07-27T13:24:32.461043",
     "exception": false,
     "start_time": "2025-07-27T13:24:32.444391",
     "status": "completed"
    },
    "tags": []
   },
   "outputs": [],
   "source": [
    "# also adding the softmax activation as an object \n",
    "\n",
    "import numpy as np\n",
    "np.random.seed(0)\n",
    "class Layer_Dense:\n",
    "    def __init__(self, n_inputs, n_neurons):\n",
    "        self.weights = 0.10 * np.random.randn(n_inputs, n_neurons)\n",
    "        self.biases = np.zeros((1, n_neurons))\n",
    "    def forward(self, inputs):\n",
    "        self.output = np.dot(inputs, self.weights) + self.biases\n",
    "    def __call__(self,inputs):  # to make it cleaner and remove the need of writing .forward everytime\n",
    "        return self.forward(inputs)\n",
    "\n",
    "class activation_ReLU:\n",
    "    def forward(self, inputs):\n",
    "        self.output = np.maximum(0,inputs)\n",
    "    def __call__(self, inputs):\n",
    "        return self.forward(inputs)\n",
    "\n",
    "class activation_softmax:\n",
    "    def forward(self,inputs):\n",
    "        exp_values = np.exp(inputs - np.max(inputs, axis = 1, keepdims = True))\n",
    "        self.output = exp_values / np.sum(exp_values, axis = 1, keepdims = True) \n",
    "    def __call__ (self, inputs):\n",
    "        return self.forward(inputs)\n",
    "\n",
    "X,y = spiral_data(100, 3)\n",
    "layer1 = Layer_Dense(2,3)\n",
    "activation1 = activation_ReLU()\n",
    "layer2 = Layer_Dense(3,3)\n",
    "activation2 = activation_softmax()\n",
    "\n",
    "layer1(X)\n",
    "activation1(layer1.output)\n",
    "layer2(activation1.output)\n",
    "activation2(layer2.output)"
   ]
  },
  {
   "cell_type": "code",
   "execution_count": null,
   "id": "2b15e581",
   "metadata": {
    "papermill": {
     "duration": 0.004578,
     "end_time": "2025-07-27T13:24:32.470665",
     "exception": false,
     "start_time": "2025-07-27T13:24:32.466087",
     "status": "completed"
    },
    "tags": []
   },
   "outputs": [],
   "source": []
  }
 ],
 "metadata": {
  "kaggle": {
   "accelerator": "none",
   "dataSources": [],
   "dockerImageVersionId": 31089,
   "isGpuEnabled": false,
   "isInternetEnabled": true,
   "language": "python",
   "sourceType": "notebook"
  },
  "kernelspec": {
   "display_name": "Python 3",
   "language": "python",
   "name": "python3"
  },
  "language_info": {
   "codemirror_mode": {
    "name": "ipython",
    "version": 3
   },
   "file_extension": ".py",
   "mimetype": "text/x-python",
   "name": "python",
   "nbconvert_exporter": "python",
   "pygments_lexer": "ipython3",
   "version": "3.11.13"
  },
  "papermill": {
   "default_parameters": {},
   "duration": 5.652452,
   "end_time": "2025-07-27T13:24:32.793400",
   "environment_variables": {},
   "exception": null,
   "input_path": "__notebook__.ipynb",
   "output_path": "__notebook__.ipynb",
   "parameters": {},
   "start_time": "2025-07-27T13:24:27.140948",
   "version": "2.6.0"
  }
 },
 "nbformat": 4,
 "nbformat_minor": 5
}
