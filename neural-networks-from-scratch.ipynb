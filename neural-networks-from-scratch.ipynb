{
 "cells": [
  {
   "cell_type": "code",
   "execution_count": 1,
   "id": "541c3703",
   "metadata": {
    "execution": {
     "iopub.execute_input": "2025-07-26T12:58:49.292483Z",
     "iopub.status.busy": "2025-07-26T12:58:49.292183Z",
     "iopub.status.idle": "2025-07-26T12:58:49.304403Z",
     "shell.execute_reply": "2025-07-26T12:58:49.303562Z"
    },
    "papermill": {
     "duration": 0.01744,
     "end_time": "2025-07-26T12:58:49.305933",
     "exception": false,
     "start_time": "2025-07-26T12:58:49.288493",
     "status": "completed"
    },
    "tags": []
   },
   "outputs": [
    {
     "data": {
      "text/plain": [
       "2.3"
      ]
     },
     "execution_count": 1,
     "metadata": {},
     "output_type": "execute_result"
    }
   ],
   "source": [
    "# first neural network for 1 NEURON WITH 3 INPUTS\n",
    "inputs = [1,2,3]\n",
    "weights = [0.2, 0.8, -0.5]\n",
    "bias = 2\n",
    "output = inputs[0]*weights[0] + inputs[1]*weights[1] + inputs[2]*weights[2] + bias\n",
    "output"
   ]
  },
  {
   "cell_type": "code",
   "execution_count": 2,
   "id": "a8e3eacb",
   "metadata": {
    "execution": {
     "iopub.execute_input": "2025-07-26T12:58:49.312127Z",
     "iopub.status.busy": "2025-07-26T12:58:49.311834Z",
     "iopub.status.idle": "2025-07-26T12:58:49.320074Z",
     "shell.execute_reply": "2025-07-26T12:58:49.319191Z"
    },
    "papermill": {
     "duration": 0.012719,
     "end_time": "2025-07-26T12:58:49.321470",
     "exception": false,
     "start_time": "2025-07-26T12:58:49.308751",
     "status": "completed"
    },
    "tags": []
   },
   "outputs": [
    {
     "data": {
      "text/plain": [
       "[4.8, 1.21, 2.385]"
      ]
     },
     "execution_count": 2,
     "metadata": {},
     "output_type": "execute_result"
    }
   ],
   "source": [
    "# FOR 3 NEURONS and 4 INPUTS\n",
    "inputs = [1,2,3, 2.5]\n",
    "weights1 = [0.2, 0.8, -0.5, 1.0]\n",
    "weights2 = [0.5, -0.91, 0.26, -0.5]\n",
    "weights3 = [-0.26, -0.27, 0.17, 0.87]\n",
    "bias1 = 2\n",
    "bias2 = 3\n",
    "bias3 = 0.5\n",
    "output = [inputs[0]*weights1[0] + inputs[1]*weights1[1] + inputs[2]*weights1[2] + inputs[3]*weights1[3] + bias1,\n",
    "         inputs[0]*weights2[0] + inputs[1]*weights2[1] + inputs[2]*weights2[2] + inputs[3]*weights2[3] + bias2,\n",
    "         inputs[0]*weights3[0] + inputs[1]*weights3[1] + inputs[2]*weights3[2] + inputs[3]*weights3[3] + bias3,]\n",
    "output"
   ]
  },
  {
   "cell_type": "code",
   "execution_count": 3,
   "id": "269b7d06",
   "metadata": {
    "execution": {
     "iopub.execute_input": "2025-07-26T12:58:49.327025Z",
     "iopub.status.busy": "2025-07-26T12:58:49.326742Z",
     "iopub.status.idle": "2025-07-26T12:58:49.334207Z",
     "shell.execute_reply": "2025-07-26T12:58:49.333427Z"
    },
    "papermill": {
     "duration": 0.011793,
     "end_time": "2025-07-26T12:58:49.335639",
     "exception": false,
     "start_time": "2025-07-26T12:58:49.323846",
     "status": "completed"
    },
    "tags": []
   },
   "outputs": [
    {
     "data": {
      "text/plain": [
       "[4.8, 1.21, 2.385]"
      ]
     },
     "execution_count": 3,
     "metadata": {},
     "output_type": "execute_result"
    }
   ],
   "source": [
    "# A BIT SIMPLIFIED BY USE OF LOOps\n",
    "\n",
    "inputs = [1, 2, 3, 2.5]\n",
    "weights = [[0.2, 0.8, -0.5, 1.0], [0.5, -0.91, 0.26, -0.5], [-0.26, -0.27, 0.17, 0.87]]\n",
    "biases = [2,3,0.5]\n",
    "layer_output = [] # output of current layer\n",
    "for neuron_weights, neuron_bias in zip(weights,biases):\n",
    "    neuron_output = 0 # output of given neuron\n",
    "    for n_inputs, weight in zip(inputs,neuron_weights):\n",
    "        neuron_output += n_inputs*weight # basically the (inputs*weights) part of original code\n",
    "    neuron_output += neuron_bias # the (+ bias) part\n",
    "    layer_output.append(neuron_output)\n",
    "layer_output"
   ]
  },
  {
   "cell_type": "code",
   "execution_count": 4,
   "id": "21f5806e",
   "metadata": {
    "execution": {
     "iopub.execute_input": "2025-07-26T12:58:49.341547Z",
     "iopub.status.busy": "2025-07-26T12:58:49.341265Z",
     "iopub.status.idle": "2025-07-26T12:58:49.352788Z",
     "shell.execute_reply": "2025-07-26T12:58:49.351990Z"
    },
    "papermill": {
     "duration": 0.016013,
     "end_time": "2025-07-26T12:58:49.354175",
     "exception": false,
     "start_time": "2025-07-26T12:58:49.338162",
     "status": "completed"
    },
    "tags": []
   },
   "outputs": [
    {
     "data": {
      "text/plain": [
       "array([4.8  , 1.21 , 2.385])"
      ]
     },
     "execution_count": 4,
     "metadata": {},
     "output_type": "execute_result"
    }
   ],
   "source": [
    "# further simplification via numpy \n",
    "import numpy as np\n",
    "inputs = [1, 2, 3, 2.5]\n",
    "weights = [[0.2, 0.8, -0.5, 1.0], [0.5, -0.91, 0.26, -0.5], [-0.26, -0.27, 0.17, 0.87]]\n",
    "biases = [2,3,0.5]\n",
    "output = np.dot(weights,inputs) + biases # we just did that loop thing in one fukcing line \n",
    "output"
   ]
  },
  {
   "cell_type": "code",
   "execution_count": 5,
   "id": "98e8a5f7",
   "metadata": {
    "execution": {
     "iopub.execute_input": "2025-07-26T12:58:49.360083Z",
     "iopub.status.busy": "2025-07-26T12:58:49.359816Z",
     "iopub.status.idle": "2025-07-26T12:58:49.377902Z",
     "shell.execute_reply": "2025-07-26T12:58:49.377119Z"
    },
    "papermill": {
     "duration": 0.022674,
     "end_time": "2025-07-26T12:58:49.379447",
     "exception": false,
     "start_time": "2025-07-26T12:58:49.356773",
     "status": "completed"
    },
    "tags": []
   },
   "outputs": [
    {
     "data": {
      "text/plain": [
       "array([[ 4.8  ,  1.21 ,  2.385],\n",
       "       [ 8.9  , -1.81 ,  0.2  ],\n",
       "       [ 1.41 ,  1.051,  0.026]])"
      ]
     },
     "execution_count": 5,
     "metadata": {},
     "output_type": "execute_result"
    }
   ],
   "source": [
    "# USING BATCHES OF INPUTS\n",
    "inputs = [[1, 2, 3, 2.5], [2.0, 5.0, -1.0, 2.0], [-1.5, 2.7, 3.3, -0.8]]\n",
    "weights = [[0.2, 0.8, -0.5, 1.0], [0.5, -0.91, 0.26, -0.5], [-0.26, -0.27, 0.17, 0.87]]\n",
    "biases = [2,3,0.5]\n",
    "output = np.dot(inputs, np.array(weights).T) + biases # we did the transpose to keep the shapes intact\n",
    "output"
   ]
  },
  {
   "cell_type": "code",
   "execution_count": 6,
   "id": "cf2ae2cd",
   "metadata": {
    "execution": {
     "iopub.execute_input": "2025-07-26T12:58:49.385621Z",
     "iopub.status.busy": "2025-07-26T12:58:49.385326Z",
     "iopub.status.idle": "2025-07-26T12:58:49.393475Z",
     "shell.execute_reply": "2025-07-26T12:58:49.392659Z"
    },
    "papermill": {
     "duration": 0.012804,
     "end_time": "2025-07-26T12:58:49.394897",
     "exception": false,
     "start_time": "2025-07-26T12:58:49.382093",
     "status": "completed"
    },
    "tags": []
   },
   "outputs": [
    {
     "data": {
      "text/plain": [
       "array([[ 0.5031 ,  3.75815, -2.03875],\n",
       "       [ 0.2434 ,  6.1668 , -5.7633 ],\n",
       "       [-0.99314,  2.82254, -0.35655]])"
      ]
     },
     "execution_count": 6,
     "metadata": {},
     "output_type": "execute_result"
    }
   ],
   "source": [
    "# adding another layer \n",
    "inputs = [[1, 2, 3, 2.5], \n",
    "          [2.0, 5.0, -1.0, 2.0], \n",
    "          [-1.5, 2.7, 3.3, -0.8]]\n",
    "\n",
    "weights1 = [[0.2, 0.8, -0.5, 1.0], \n",
    "            [0.5, -0.91, 0.26, -0.5], \n",
    "            [-0.26, -0.27, 0.17, 0.87]]\n",
    "\n",
    "biases1 = [2,3,0.5]\n",
    "\n",
    "weights2 = [[0.1, -0.14, 0.5], \n",
    "            [0.5, 0.12, -0.33], \n",
    "            [-0.44, 0.73, -0.13]]\n",
    "\n",
    "biases2 = [-1,2,-0.5]\n",
    "\n",
    "layer1_outputs = np.dot(inputs, np.array(weights1).T) + biases1 \n",
    "\n",
    "layer2_outputs = np.dot(layer1_outputs, np.array(weights2).T) + biases2\n",
    "layer2_outputs"
   ]
  },
  {
   "cell_type": "code",
   "execution_count": 7,
   "id": "18455c63",
   "metadata": {
    "execution": {
     "iopub.execute_input": "2025-07-26T12:58:49.401067Z",
     "iopub.status.busy": "2025-07-26T12:58:49.400784Z",
     "iopub.status.idle": "2025-07-26T12:58:49.417423Z",
     "shell.execute_reply": "2025-07-26T12:58:49.416579Z"
    },
    "papermill": {
     "duration": 0.021297,
     "end_time": "2025-07-26T12:58:49.418893",
     "exception": false,
     "start_time": "2025-07-26T12:58:49.397596",
     "status": "completed"
    },
    "tags": []
   },
   "outputs": [
    {
     "data": {
      "text/plain": [
       "array([[ 0.148296  , -0.08397602],\n",
       "       [ 0.14100315, -0.01340469],\n",
       "       [ 0.20124979, -0.07290616]])"
      ]
     },
     "execution_count": 7,
     "metadata": {},
     "output_type": "execute_result"
    }
   ],
   "source": [
    "# MAKING THINGS AS AN OBJECT \n",
    "import numpy as np\n",
    "np.random.seed(0)   # for the same output each run \n",
    "X = [[1, 2, 3, 2.5], \n",
    "      [2.0, 5.0, -1.0, 2.0], \n",
    "      [-1.5, 2.7, 3.3, -0.8]]\n",
    "class Layer_Dense:\n",
    "    def __init__(self, n_inputs, n_neurons):\n",
    "        self.weights = 0.10 * np.random.randn(n_inputs, n_neurons)\n",
    "        self.biases = np.zeros((1, n_neurons))\n",
    "    def forward(self, inputs):\n",
    "        self.output = np.dot(inputs, self.weights) + self.biases\n",
    "\n",
    "layer1 = Layer_Dense(4,5)\n",
    "layer2 = Layer_Dense(5,2)\n",
    "\n",
    "layer1.forward(X)\n",
    "layer2.forward(layer1.output)\n",
    "layer2.output"
   ]
  },
  {
   "cell_type": "code",
   "execution_count": null,
   "id": "2d1481b8",
   "metadata": {
    "papermill": {
     "duration": 0.002306,
     "end_time": "2025-07-26T12:58:49.423921",
     "exception": false,
     "start_time": "2025-07-26T12:58:49.421615",
     "status": "completed"
    },
    "tags": []
   },
   "outputs": [],
   "source": []
  }
 ],
 "metadata": {
  "kaggle": {
   "accelerator": "none",
   "dataSources": [],
   "dockerImageVersionId": 31089,
   "isGpuEnabled": false,
   "isInternetEnabled": true,
   "language": "python",
   "sourceType": "notebook"
  },
  "kernelspec": {
   "display_name": "Python 3",
   "language": "python",
   "name": "python3"
  },
  "language_info": {
   "codemirror_mode": {
    "name": "ipython",
    "version": 3
   },
   "file_extension": ".py",
   "mimetype": "text/x-python",
   "name": "python",
   "nbconvert_exporter": "python",
   "pygments_lexer": "ipython3",
   "version": "3.11.13"
  },
  "papermill": {
   "default_parameters": {},
   "duration": 4.958664,
   "end_time": "2025-07-26T12:58:49.744468",
   "environment_variables": {},
   "exception": null,
   "input_path": "__notebook__.ipynb",
   "output_path": "__notebook__.ipynb",
   "parameters": {},
   "start_time": "2025-07-26T12:58:44.785804",
   "version": "2.6.0"
  }
 },
 "nbformat": 4,
 "nbformat_minor": 5
}
