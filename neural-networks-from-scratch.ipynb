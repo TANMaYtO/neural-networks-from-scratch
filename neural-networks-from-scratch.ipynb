{
 "cells": [
  {
   "cell_type": "code",
   "execution_count": 1,
   "id": "78fa2ff2",
   "metadata": {
    "execution": {
     "iopub.execute_input": "2025-07-27T11:24:30.878093Z",
     "iopub.status.busy": "2025-07-27T11:24:30.877804Z",
     "iopub.status.idle": "2025-07-27T11:24:30.888366Z",
     "shell.execute_reply": "2025-07-27T11:24:30.887661Z"
    },
    "papermill": {
     "duration": 0.015747,
     "end_time": "2025-07-27T11:24:30.889709",
     "exception": false,
     "start_time": "2025-07-27T11:24:30.873962",
     "status": "completed"
    },
    "tags": []
   },
   "outputs": [
    {
     "data": {
      "text/plain": [
       "2.3"
      ]
     },
     "execution_count": 1,
     "metadata": {},
     "output_type": "execute_result"
    }
   ],
   "source": [
    "# first neural network for 1 NEURON WITH 3 INPUTS\n",
    "inputs = [1,2,3]\n",
    "weights = [0.2, 0.8, -0.5]\n",
    "bias = 2\n",
    "output = inputs[0]*weights[0] + inputs[1]*weights[1] + inputs[2]*weights[2] + bias\n",
    "output"
   ]
  },
  {
   "cell_type": "code",
   "execution_count": 2,
   "id": "3faf7714",
   "metadata": {
    "execution": {
     "iopub.execute_input": "2025-07-27T11:24:30.895639Z",
     "iopub.status.busy": "2025-07-27T11:24:30.895375Z",
     "iopub.status.idle": "2025-07-27T11:24:30.902798Z",
     "shell.execute_reply": "2025-07-27T11:24:30.902054Z"
    },
    "papermill": {
     "duration": 0.011455,
     "end_time": "2025-07-27T11:24:30.903949",
     "exception": false,
     "start_time": "2025-07-27T11:24:30.892494",
     "status": "completed"
    },
    "tags": []
   },
   "outputs": [
    {
     "data": {
      "text/plain": [
       "[4.8, 1.21, 2.385]"
      ]
     },
     "execution_count": 2,
     "metadata": {},
     "output_type": "execute_result"
    }
   ],
   "source": [
    "# FOR 3 NEURONS and 4 INPUTS\n",
    "inputs = [1,2,3, 2.5]\n",
    "weights1 = [0.2, 0.8, -0.5, 1.0]\n",
    "weights2 = [0.5, -0.91, 0.26, -0.5]\n",
    "weights3 = [-0.26, -0.27, 0.17, 0.87]\n",
    "bias1 = 2\n",
    "bias2 = 3\n",
    "bias3 = 0.5\n",
    "output = [inputs[0]*weights1[0] + inputs[1]*weights1[1] + inputs[2]*weights1[2] + inputs[3]*weights1[3] + bias1,\n",
    "         inputs[0]*weights2[0] + inputs[1]*weights2[1] + inputs[2]*weights2[2] + inputs[3]*weights2[3] + bias2,\n",
    "         inputs[0]*weights3[0] + inputs[1]*weights3[1] + inputs[2]*weights3[2] + inputs[3]*weights3[3] + bias3,]\n",
    "output"
   ]
  },
  {
   "cell_type": "code",
   "execution_count": 3,
   "id": "9aa96aa6",
   "metadata": {
    "execution": {
     "iopub.execute_input": "2025-07-27T11:24:30.909568Z",
     "iopub.status.busy": "2025-07-27T11:24:30.909287Z",
     "iopub.status.idle": "2025-07-27T11:24:30.916191Z",
     "shell.execute_reply": "2025-07-27T11:24:30.915510Z"
    },
    "papermill": {
     "duration": 0.01112,
     "end_time": "2025-07-27T11:24:30.917489",
     "exception": false,
     "start_time": "2025-07-27T11:24:30.906369",
     "status": "completed"
    },
    "tags": []
   },
   "outputs": [
    {
     "data": {
      "text/plain": [
       "[4.8, 1.21, 2.385]"
      ]
     },
     "execution_count": 3,
     "metadata": {},
     "output_type": "execute_result"
    }
   ],
   "source": [
    "# A BIT SIMPLIFIED BY USE OF LOOps\n",
    "\n",
    "inputs = [1, 2, 3, 2.5]\n",
    "weights = [[0.2, 0.8, -0.5, 1.0], [0.5, -0.91, 0.26, -0.5], [-0.26, -0.27, 0.17, 0.87]]\n",
    "biases = [2,3,0.5]\n",
    "layer_output = [] # output of current layer\n",
    "for neuron_weights, neuron_bias in zip(weights,biases):\n",
    "    neuron_output = 0 # output of given neuron\n",
    "    for n_inputs, weight in zip(inputs,neuron_weights):\n",
    "        neuron_output += n_inputs*weight # basically the (inputs*weights) part of original code\n",
    "    neuron_output += neuron_bias # the (+ bias) part\n",
    "    layer_output.append(neuron_output)\n",
    "layer_output"
   ]
  },
  {
   "cell_type": "code",
   "execution_count": 4,
   "id": "850d7797",
   "metadata": {
    "execution": {
     "iopub.execute_input": "2025-07-27T11:24:30.923416Z",
     "iopub.status.busy": "2025-07-27T11:24:30.923135Z",
     "iopub.status.idle": "2025-07-27T11:24:30.939954Z",
     "shell.execute_reply": "2025-07-27T11:24:30.939239Z"
    },
    "papermill": {
     "duration": 0.021197,
     "end_time": "2025-07-27T11:24:30.941178",
     "exception": false,
     "start_time": "2025-07-27T11:24:30.919981",
     "status": "completed"
    },
    "tags": []
   },
   "outputs": [
    {
     "data": {
      "text/plain": [
       "array([4.8  , 1.21 , 2.385])"
      ]
     },
     "execution_count": 4,
     "metadata": {},
     "output_type": "execute_result"
    }
   ],
   "source": [
    "# further simplification via numpy \n",
    "import numpy as np\n",
    "inputs = [1, 2, 3, 2.5]\n",
    "weights = [[0.2, 0.8, -0.5, 1.0], [0.5, -0.91, 0.26, -0.5], [-0.26, -0.27, 0.17, 0.87]]\n",
    "biases = [2,3,0.5]\n",
    "output = np.dot(weights,inputs) + biases # we just did that loop thing in one fukcing line \n",
    "output"
   ]
  },
  {
   "cell_type": "code",
   "execution_count": 5,
   "id": "9946e07d",
   "metadata": {
    "execution": {
     "iopub.execute_input": "2025-07-27T11:24:30.947396Z",
     "iopub.status.busy": "2025-07-27T11:24:30.947117Z",
     "iopub.status.idle": "2025-07-27T11:24:30.962580Z",
     "shell.execute_reply": "2025-07-27T11:24:30.961893Z"
    },
    "papermill": {
     "duration": 0.020065,
     "end_time": "2025-07-27T11:24:30.963935",
     "exception": false,
     "start_time": "2025-07-27T11:24:30.943870",
     "status": "completed"
    },
    "tags": []
   },
   "outputs": [
    {
     "data": {
      "text/plain": [
       "array([[ 4.8  ,  1.21 ,  2.385],\n",
       "       [ 8.9  , -1.81 ,  0.2  ],\n",
       "       [ 1.41 ,  1.051,  0.026]])"
      ]
     },
     "execution_count": 5,
     "metadata": {},
     "output_type": "execute_result"
    }
   ],
   "source": [
    "# USING BATCHES OF INPUTS\n",
    "inputs = [[1, 2, 3, 2.5], [2.0, 5.0, -1.0, 2.0], [-1.5, 2.7, 3.3, -0.8]]\n",
    "weights = [[0.2, 0.8, -0.5, 1.0], [0.5, -0.91, 0.26, -0.5], [-0.26, -0.27, 0.17, 0.87]]\n",
    "biases = [2,3,0.5]\n",
    "output = np.dot(inputs, np.array(weights).T) + biases # we did the transpose to keep the shapes intact\n",
    "output"
   ]
  },
  {
   "cell_type": "code",
   "execution_count": 6,
   "id": "3988bdaa",
   "metadata": {
    "execution": {
     "iopub.execute_input": "2025-07-27T11:24:30.970203Z",
     "iopub.status.busy": "2025-07-27T11:24:30.969937Z",
     "iopub.status.idle": "2025-07-27T11:24:30.977833Z",
     "shell.execute_reply": "2025-07-27T11:24:30.977192Z"
    },
    "papermill": {
     "duration": 0.012327,
     "end_time": "2025-07-27T11:24:30.979015",
     "exception": false,
     "start_time": "2025-07-27T11:24:30.966688",
     "status": "completed"
    },
    "tags": []
   },
   "outputs": [
    {
     "data": {
      "text/plain": [
       "array([[ 0.5031 ,  3.75815, -2.03875],\n",
       "       [ 0.2434 ,  6.1668 , -5.7633 ],\n",
       "       [-0.99314,  2.82254, -0.35655]])"
      ]
     },
     "execution_count": 6,
     "metadata": {},
     "output_type": "execute_result"
    }
   ],
   "source": [
    "# adding another layer \n",
    "inputs = [[1, 2, 3, 2.5], \n",
    "          [2.0, 5.0, -1.0, 2.0], \n",
    "          [-1.5, 2.7, 3.3, -0.8]]\n",
    "\n",
    "weights1 = [[0.2, 0.8, -0.5, 1.0], \n",
    "            [0.5, -0.91, 0.26, -0.5], \n",
    "            [-0.26, -0.27, 0.17, 0.87]]\n",
    "\n",
    "biases1 = [2,3,0.5]\n",
    "\n",
    "weights2 = [[0.1, -0.14, 0.5], \n",
    "            [0.5, 0.12, -0.33], \n",
    "            [-0.44, 0.73, -0.13]]\n",
    "\n",
    "biases2 = [-1,2,-0.5]\n",
    "\n",
    "layer1_outputs = np.dot(inputs, np.array(weights1).T) + biases1 \n",
    "\n",
    "layer2_outputs = np.dot(layer1_outputs, np.array(weights2).T) + biases2\n",
    "layer2_outputs"
   ]
  },
  {
   "cell_type": "code",
   "execution_count": 7,
   "id": "4007cacf",
   "metadata": {
    "execution": {
     "iopub.execute_input": "2025-07-27T11:24:30.985659Z",
     "iopub.status.busy": "2025-07-27T11:24:30.985388Z",
     "iopub.status.idle": "2025-07-27T11:24:31.000404Z",
     "shell.execute_reply": "2025-07-27T11:24:30.999576Z"
    },
    "papermill": {
     "duration": 0.019925,
     "end_time": "2025-07-27T11:24:31.001892",
     "exception": false,
     "start_time": "2025-07-27T11:24:30.981967",
     "status": "completed"
    },
    "tags": []
   },
   "outputs": [
    {
     "data": {
      "text/plain": [
       "array([[ 0.148296  , -0.08397602],\n",
       "       [ 0.14100315, -0.01340469],\n",
       "       [ 0.20124979, -0.07290616]])"
      ]
     },
     "execution_count": 7,
     "metadata": {},
     "output_type": "execute_result"
    }
   ],
   "source": [
    "# MAKING THINGS AS AN OBJECT \n",
    "import numpy as np\n",
    "np.random.seed(0)   # for the same output each run \n",
    "X = [[1, 2, 3, 2.5], \n",
    "      [2.0, 5.0, -1.0, 2.0], \n",
    "      [-1.5, 2.7, 3.3, -0.8]]\n",
    "class Layer_Dense:\n",
    "    def __init__(self, n_inputs, n_neurons):\n",
    "        self.weights = 0.10 * np.random.randn(n_inputs, n_neurons)\n",
    "        self.biases = np.zeros((1, n_neurons))\n",
    "    def forward(self, inputs):\n",
    "        self.output = np.dot(inputs, self.weights) + self.biases\n",
    "\n",
    "layer1 = Layer_Dense(4,5)\n",
    "layer2 = Layer_Dense(5,2)\n",
    "\n",
    "layer1.forward(X)\n",
    "layer2.forward(layer1.output)\n",
    "layer2.output"
   ]
  },
  {
   "cell_type": "code",
   "execution_count": 8,
   "id": "0ec35e15",
   "metadata": {
    "execution": {
     "iopub.execute_input": "2025-07-27T11:24:31.008769Z",
     "iopub.status.busy": "2025-07-27T11:24:31.008507Z",
     "iopub.status.idle": "2025-07-27T11:24:31.015447Z",
     "shell.execute_reply": "2025-07-27T11:24:31.014719Z"
    },
    "papermill": {
     "duration": 0.01181,
     "end_time": "2025-07-27T11:24:31.016713",
     "exception": false,
     "start_time": "2025-07-27T11:24:31.004903",
     "status": "completed"
    },
    "tags": []
   },
   "outputs": [
    {
     "data": {
      "text/plain": [
       "[0, 2, 0, 3.3, 0, 1.1, 2.2, 0]"
      ]
     },
     "execution_count": 8,
     "metadata": {},
     "output_type": "execute_result"
    }
   ],
   "source": [
    "# CODE FOR RELU FxN\n",
    "import numpy as np\n",
    "np.random.seed(0)   # for the same output each run \n",
    "X = [[1, 2, 3, 2.5], \n",
    "      [2.0, 5.0, -1.0, 2.0], \n",
    "      [-1.5, 2.7, 3.3, -0.8]]\n",
    "inputs = [0,2,-1,3.3,-2.7,1.1,2.2,-100]\n",
    "output = []\n",
    "for i in inputs:\n",
    "    if i>0:\n",
    "        output.append(i)\n",
    "    elif i<=0:\n",
    "        output.append(0)\n",
    "output"
   ]
  },
  {
   "cell_type": "code",
   "execution_count": 9,
   "id": "7ba4983d",
   "metadata": {
    "execution": {
     "iopub.execute_input": "2025-07-27T11:24:31.023883Z",
     "iopub.status.busy": "2025-07-27T11:24:31.023216Z",
     "iopub.status.idle": "2025-07-27T11:24:31.029541Z",
     "shell.execute_reply": "2025-07-27T11:24:31.028866Z"
    },
    "papermill": {
     "duration": 0.011078,
     "end_time": "2025-07-27T11:24:31.030739",
     "exception": false,
     "start_time": "2025-07-27T11:24:31.019661",
     "status": "completed"
    },
    "tags": []
   },
   "outputs": [
    {
     "data": {
      "text/plain": [
       "[0, 2, 0, 3.3, 0, 1.1, 2.2, 0]"
      ]
     },
     "execution_count": 9,
     "metadata": {},
     "output_type": "execute_result"
    }
   ],
   "source": [
    "# that whole loop can be dicthed and ran as \n",
    "import numpy as np\n",
    "np.random.seed(0)   # for the same output each run \n",
    "X = [[1, 2, 3, 2.5], \n",
    "      [2.0, 5.0, -1.0, 2.0], \n",
    "      [-1.5, 2.7, 3.3, -0.8]]\n",
    "inputs = [0,2,-1,3.3,-2.7,1.1,2.2,-100]\n",
    "output = [i if i > 0 else 0 for i in inputs]\n",
    "output"
   ]
  },
  {
   "cell_type": "code",
   "execution_count": null,
   "id": "649a1d38",
   "metadata": {
    "papermill": {
     "duration": 0.00273,
     "end_time": "2025-07-27T11:24:31.036463",
     "exception": false,
     "start_time": "2025-07-27T11:24:31.033733",
     "status": "completed"
    },
    "tags": []
   },
   "outputs": [],
   "source": []
  }
 ],
 "metadata": {
  "kaggle": {
   "accelerator": "none",
   "dataSources": [],
   "dockerImageVersionId": 31089,
   "isGpuEnabled": false,
   "isInternetEnabled": true,
   "language": "python",
   "sourceType": "notebook"
  },
  "kernelspec": {
   "display_name": "Python 3",
   "language": "python",
   "name": "python3"
  },
  "language_info": {
   "codemirror_mode": {
    "name": "ipython",
    "version": 3
   },
   "file_extension": ".py",
   "mimetype": "text/x-python",
   "name": "python",
   "nbconvert_exporter": "python",
   "pygments_lexer": "ipython3",
   "version": "3.11.13"
  },
  "papermill": {
   "default_parameters": {},
   "duration": 5.059136,
   "end_time": "2025-07-27T11:24:31.357048",
   "environment_variables": {},
   "exception": null,
   "input_path": "__notebook__.ipynb",
   "output_path": "__notebook__.ipynb",
   "parameters": {},
   "start_time": "2025-07-27T11:24:26.297912",
   "version": "2.6.0"
  }
 },
 "nbformat": 4,
 "nbformat_minor": 5
}
